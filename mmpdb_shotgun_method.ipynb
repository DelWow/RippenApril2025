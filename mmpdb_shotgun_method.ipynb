{
  "cells": [
    {
      "cell_type": "markdown",
      "metadata": {
        "id": "view-in-github",
        "colab_type": "text"
      },
      "source": [
        "<a href=\"https://colab.research.google.com/github/DelWow/RippenApril2025/blob/main/mmpdb_shotgun_method.ipynb\" target=\"_parent\"><img src=\"https://colab.research.google.com/assets/colab-badge.svg\" alt=\"Open In Colab\"/></a>"
      ]
    },
    {
      "cell_type": "code",
      "execution_count": null,
      "metadata": {
        "id": "nfB6nLXehkFd"
      },
      "outputs": [],
      "source": [
        "#Restart the runtime after installing these\n",
        "! pip install \"numpy==1.26.4\"\n",
        "! pip install mmpdb\n",
        "! pip install rdkit-pypi"
      ]
    },
    {
      "cell_type": "code",
      "source": [
        "# fragment every molecule\n",
        "!mmpdb fragment /content/LC_Lysine_Focused_Covalent_Inhibitor_Library.smi -o input.fragdb\n"
      ],
      "metadata": {
        "id": "SXAh2QxDKD_R"
      },
      "execution_count": null,
      "outputs": []
    },
    {
      "cell_type": "code",
      "source": [
        "!mmpdb smicat /content/input.fragdb \\\n",
        "        --input-smiles           \\\n",
        "        > /content/fragments.smi\n"
      ],
      "metadata": {
        "id": "hEeDbXYgxdlC"
      },
      "execution_count": null,
      "outputs": []
    },
    {
      "cell_type": "code",
      "source": [
        "# show the 100 most frequent cores (“constants”)\n",
        "!mmpdb fragdb_constants input.fragdb --limit 100        # quick check\n"
      ],
      "metadata": {
        "id": "_QXc5b_qCsS9"
      },
      "execution_count": null,
      "outputs": []
    }
  ],
  "metadata": {
    "colab": {
      "provenance": [],
      "include_colab_link": true
    },
    "kernelspec": {
      "display_name": "Python 3",
      "name": "python3"
    },
    "language_info": {
      "name": "python"
    }
  },
  "nbformat": 4,
  "nbformat_minor": 0
}