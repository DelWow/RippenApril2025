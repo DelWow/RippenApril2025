{
  "cells": [
    {
      "cell_type": "markdown",
      "metadata": {
        "id": "view-in-github",
        "colab_type": "text"
      },
      "source": [
        "<a href=\"https://colab.research.google.com/github/DelWow/RippenApril2025/blob/main/mmpdb_shotgun_method.ipynb\" target=\"_parent\"><img src=\"https://colab.research.google.com/assets/colab-badge.svg\" alt=\"Open In Colab\"/></a>"
      ]
    },
    {
      "cell_type": "code",
      "source": [
        "!pip install -q \"numpy==1.26.4\" \"rdkit-pypi==2023.09.6\" \"mmpdb==3.1.0\" --force-reinstall\n",
        "import os, signal, psutil, sys  # optional: auto‑restart kernel\n",
        "os.kill(psutil.Process().pid, signal.SIGKILL)\n"
      ],
      "metadata": {
        "id": "FSfSsFlzEP_Q"
      },
      "execution_count": null,
      "outputs": []
    },
    {
      "cell_type": "code",
      "execution_count": null,
      "metadata": {
        "id": "nfB6nLXehkFd"
      },
      "outputs": [],
      "source": [
        "! pip install \"numpy==1.26.4\"\n",
        "! pip install mmpdb\n",
        "! pip install rdkit-pypi"
      ]
    },
    {
      "cell_type": "code",
      "execution_count": 14,
      "metadata": {
        "id": "cPWQSMbtkIfr",
        "colab": {
          "base_uri": "https://localhost:8080/"
        },
        "outputId": "34a7b889-d99f-4a19-fc4a-b589bfbead10"
      },
      "outputs": [
        {
          "output_type": "stream",
          "name": "stdout",
          "text": [
            "Preparing record 0\r                  \r\r\rFragmented record 0/1 (0.0%)\r                            \r                   |-----------------------  variable  ----------------------|       |--------------------------------------  constant  -------------------------------------\n",
            "#cuts | enum.label | #heavies | symm.class | smiles                          | order | #heavies | symm.class | smiles                          | with-H                      \n",
            "------+------------+----------+------------+---------------------------------+-------+----------+------------+---------------------------------+-----------------------------\n",
            "  1   |     N      |    18    |      1     | *c1nccnc1N1CCC(N2CCC(O)C2)CC1   |    0  |     2    |      1     | *C#N                            | C#N                         \n",
            "  1   |     N      |     2    |      1     | *C#N                            |    0  |    18    |      1     | *c1nccnc1N1CCC(N2CCC(O)C2)CC1   | OC1CCN(C2CCN(c3cnccn3)CC2)C1\n",
            "  2   |     N      |     6    |     11     | *c1nccnc1*                      |   01  |    14    |     12     | *C#N.*N1CCC(N2CCC(O)C2)CC1      | -                           \n",
            "  2   |     N      |    12    |     12     | *c1nccnc1N1CCC(*)CC1            |   01  |     8    |     12     | *C#N.*N1CCC(O)C1                | -                           \n",
            "  2   |     N      |    17    |     12     | *c1nccnc1N1CCC(N2CCC(*)C2)CC1   |   01  |     3    |     12     | *C#N.*O                         | -                           \n",
            "  1   |     N      |    12    |      1     | *N1CCC(N2CCC(O)C2)CC1           |    0  |     8    |      1     | *c1nccnc1C#N                    | N#Cc1cnccn1                 \n",
            "  1   |     N      |     8    |      1     | *c1nccnc1C#N                    |    0  |    12    |      1     | *N1CCC(N2CCC(O)C2)CC1           | OC1CCN(C2CCNCC2)C1          \n",
            "  2   |     N      |     6    |     12     | *C1CCN(*)CC1                    |   01  |    14    |     12     | *N1CCC(O)C1.*c1nccnc1C#N        | -                           \n",
            "  2   |     N      |    11    |     12     | *C1CCN(C2CCN(*)CC2)C1           |   01  |     9    |     12     | *O.*c1nccnc1C#N                 | -                           \n",
            "  1   |     N      |     6    |      1     | *N1CCC(O)C1                     |    0  |    14    |      1     | *C1CCN(c2nccnc2C#N)CC1          | N#Cc1nccnc1N1CCCCC1         \n",
            "  1   |     N      |    14    |      1     | *C1CCN(c2nccnc2C#N)CC1          |    0  |     6    |      1     | *N1CCC(O)C1                     | OC1CCNC1                    \n",
            "  2   |     N      |     5    |     12     | *C1CCN(*)C1                     |   10  |    15    |     12     | *C1CCN(c2nccnc2C#N)CC1.*O       | -                           \n",
            "  1   |     N      |     1    |      1     | *O                              |    0  |    19    |      1     | *C1CCN(C2CCN(c3nccnc3C#N)CC2)C1 | N#Cc1nccnc1N1CCC(N2CCCC2)CC1\n",
            "  1   |     N      |    19    |      1     | *C1CCN(C2CCN(c3nccnc3C#N)CC2)C1 |    0  |     1    |      1     | *O                              | O                           \n"
          ]
        }
      ],
      "source": [
        "! mmpdb smifrag 'N#Cc1nccnc1N1CCC(N2CCC(O)C2)CC1'"
      ]
    },
    {
      "cell_type": "code",
      "execution_count": 7,
      "metadata": {
        "id": "BuUTRwizkUER",
        "colab": {
          "base_uri": "https://localhost:8080/",
          "height": 317
        },
        "outputId": "57777d46-ef7e-4528-ed79-b50c76e9fd97"
      },
      "outputs": [
        {
          "output_type": "execute_result",
          "data": {
            "text/plain": [
              "<PIL.PngImagePlugin.PngImageFile image mode=RGB size=300x300>"
            ],
            "image/png": "[encoded data removed]",
            "image/jpeg": "[encoded data removed]"
          },
          "metadata": {},
          "execution_count": 7
        }
      ],
      "source": [
        "from rdkit.Chem import AllChem\n",
        "from rdkit.Chem import Draw\n",
        "m = AllChem.MolFromSmiles( 'c1c2ccc(=O)oc2ccc1CCOC[C@@H]([C@@H](O)[C@H](O)CO)O')\n",
        "Draw.MolToImage(m)\n",
        "\n"
      ]
    },
    {
      "cell_type": "code",
      "source": [
        "!mmpdb fragment /content/LC_Lysine_Focused_Covalent_Inhibitor_Library.smi -o test_data.fragdb"
      ],
      "metadata": {
        "id": "IsEdQsyZW3DW"
      },
      "execution_count": null,
      "outputs": []
    },
    {
      "cell_type": "code",
      "source": [
        "!mmpdb index test_data.fragdb -o test_data.mmpdb"
      ],
      "metadata": {
        "id": "QkRXFkWJdfdj",
        "colab": {
          "base_uri": "https://localhost:8080/"
        },
        "outputId": "28d90b48-bf55-415c-d76c-20eb62e310c9"
      },
      "execution_count": 9,
      "outputs": [
        {
          "output_type": "stream",
          "name": "stdout",
          "text": []
        }
      ]
    },
    {
      "cell_type": "code",
      "source": [
        "# show the 20 most frequent cores (“constants”)\n",
        "!mmpdb fragdb_constants test_data.fragdb --limit 100        # quick sanity check\n"
      ],
      "metadata": {
        "colab": {
          "base_uri": "https://localhost:8080/"
        },
        "id": "_QXc5b_qCsS9",
        "outputId": "1188a0f0-670b-4f05-9425-201bc9d19153"
      },
      "execution_count": 13,
      "outputs": [
        {
          "output_type": "stream",
          "name": "stdout",
          "text": [
            "constant\tN\n",
            "*C\t5134\n",
            "*C.*C\t3735\n",
            "*C#N\t3013\n",
            "*C.*C.*C\t2000\n",
            "*C.*C#N\t1992\n",
            "*C.*OC\t1929\n",
            "*C.*C.*OC\t1395\n",
            "*OC\t1324\n",
            "*C.*C.*C#N\t910\n",
            "*Cl\t859\n",
            "*C.*OC.*OC\t825\n",
            "*C.*Cl\t734\n",
            "*C.*CC\t699\n",
            "*F\t636\n",
            "*c1ccc(C#N)cc1\t595\n",
            "*OC.*OC\t577\n",
            "*c1ccccc1\t542\n",
            "*CC\t541\n",
            "*C.*C.*CC\t462\n",
            "*C#N.*F\t432\n",
            "*C.*c1ccccc1\t419\n",
            "*C#N.*Cl\t395\n",
            "*c1cccc(C#N)c1\t385\n",
            "*Br.*C\t376\n",
            "*C.*C.*Cl\t369\n",
            "*Br\t363\n",
            "*C#N.*OC\t356\n",
            "*C.*c1ccc(C#N)cc1\t312\n",
            "*C=O\t312\n",
            "*C.*C#N.*OC\t311\n",
            "*C.*F\t298\n",
            "*C.*OCC\t276\n",
            "*c1ccccc1C#N\t275\n",
            "*C.*C.*c1ccccc1\t267\n",
            "*c1nccnc1C#N\t267\n",
            "*C.*[N+](=O)[O-]\t265\n",
            "*OC.*OC.*OC\t247\n",
            "*C#N.*c1ccccc1\t246\n",
            "*F.*F\t237\n",
            "*[N+](=O)[O-]\t237\n",
            "*C.*C#N.*Cl\t236\n",
            "*C.*C.*C(C)C\t235\n",
            "*Br.*C.*C\t232\n",
            "*C.*C(C)C\t220\n",
            "*C.*C=O\t218\n",
            "*C.*C.*OCC\t205\n",
            "*C#N.*F.*F\t190\n",
            "*OCC\t188\n",
            "*C.*C.*[N+](=O)[O-]\t184\n",
            "*NC(=O)c1cccc(C#N)c1\t182\n",
            "*C.*C(=O)OCC\t174\n",
            "*C.*c1cccc(C#N)c1\t172\n",
            "*F.*F.*F\t171\n",
            "*C.*c1nccnc1C#N\t169\n",
            "*Cl.*OC\t166\n",
            "*C.*Cl.*OC\t165\n",
            "*O\t165\n",
            "*C(F)(F)F\t163\n",
            "*c1ccc(OC)cc1\t153\n",
            "*C#N.*CC\t151\n",
            "*C.*C#N.*F\t151\n",
            "*Cl.*Cl\t147\n",
            "*c1cc(C#N)ccn1\t147\n",
            "*C#N.*O\t145\n",
            "*C(=O)OCC\t144\n",
            "*C#N.*C(F)(F)F\t143\n",
            "*c1cccs1\t143\n",
            "*C.*Cl.*Cl\t142\n",
            "*C.*CC.*OC\t141\n",
            "*c1ncccc1C#N\t139\n",
            "*C(C)C\t138\n",
            "*NC(=O)c1ccc(C#N)cc1\t137\n",
            "*C(C)(C)C\t132\n",
            "*C.*c1ccc(OC)cc1\t131\n",
            "*C.*C.*F\t129\n",
            "*c1ccc(C)cc1\t129\n",
            "*C.*C#N.*c1ccccc1\t126\n",
            "*C.*c1ccccc1C#N\t125\n",
            "*C.*C#N.*CC\t122\n",
            "*c1ccc(Cl)cc1\t122\n",
            "*c1ccco1\t120\n",
            "*C.*C.*c1ccc(C#N)cc1\t118\n",
            "*C1CC1\t118\n",
            "*Oc1cc(C#N)ccn1\t118\n",
            "*C#N.*C1CC1\t117\n",
            "*C#N.*c1cccs1\t117\n",
            "*CC.*OC\t114\n",
            "*c1ccc(F)cc1\t111\n",
            "*c1ccc(C#N)cn1\t109\n",
            "*Br.*C#N\t107\n",
            "*C.*C.*C=O\t105\n",
            "*C.*O\t105\n",
            "*C.*c1ccc(C)cc1\t103\n",
            "*CNC(=O)c1cccc(C#N)c1\t97\n",
            "*c1ccccc1OC\t97\n",
            "*Br.*C.*OC\t96\n",
            "*C#N.*c1ccco1\t95\n",
            "*Oc1nccnc1C#N\t95\n",
            "*c1ccc(OC)c(OC)c1\t95\n",
            "*C.*c1ccc(Cl)cc1\t94\n"
          ]
        }
      ]
    }
  ],
  "metadata": {
    "colab": {
      "provenance": [],
      "include_colab_link": true
    },
    "kernelspec": {
      "display_name": "Python 3",
      "name": "python3"
    },
    "language_info": {
      "name": "python"
    }
  },
  "nbformat": 4,
  "nbformat_minor": 0
}