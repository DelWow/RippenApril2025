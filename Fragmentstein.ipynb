{
  "nbformat": 4,
  "nbformat_minor": 0,
  "metadata": {
    "colab": {
      "provenance": [],
      "include_colab_link": true
    },
    "kernelspec": {
      "name": "python3",
      "display_name": "Python 3"
    },
    "language_info": {
      "name": "python"
    }
  },
  "cells": [
    {
      "cell_type": "markdown",
      "metadata": {
        "id": "view-in-github",
        "colab_type": "text"
      },
      "source": [
        "<a href=\"https://colab.research.google.com/github/DelWow/RippenApril2025/blob/main/Fragmentstein.ipynb\" target=\"_parent\"><img src=\"https://colab.research.google.com/assets/colab-badge.svg\" alt=\"Open In Colab\"/></a>"
      ]
    },
    {
      "cell_type": "markdown",
      "source": [
        "**Set Up Process**"
      ],
      "metadata": {
        "id": "iPmyYpynpkG6"
      }
    },
    {
      "cell_type": "code",
      "source": [
        "# Setup process\n",
        "# Restart runtime after running this\n",
        "!pip install \"numpy==1.26.4\"\n",
        "!pip install fragmenstein\n",
        "!pip install rdkit\n",
        "!pip install mmpdb\n"
      ],
      "metadata": {
        "id": "Js1uWsA_VGh0"
      },
      "execution_count": null,
      "outputs": []
    },
    {
      "cell_type": "markdown",
      "source": [
        "**View your fragmented data as a csv to choose what molecules you want to stitch**"
      ],
      "metadata": {
        "id": "MuEcIiGBp_g5"
      }
    },
    {
      "cell_type": "code",
      "source": [
        "# Upload your .smi file\n",
        "\n",
        "from google.colab import files\n",
        "uploaded = files.upload()      # choose yourfile.smi\n",
        "\n",
        "import pandas as pd\n",
        "\n",
        "SMI_PATH = next(iter(uploaded))              # first uploaded file\n",
        "records = []\n",
        "with open(SMI_PATH, \"r\") as fh:\n",
        "    for line in fh:\n",
        "        line = line.strip()\n",
        "        if not line or line.startswith(\"#\"):    # skip blanks / comments\n",
        "            continue\n",
        "        parts = line.split()\n",
        "        smiles = parts[0]\n",
        "        name   = parts[1] if len(parts) > 1 else \"\"\n",
        "        records.append({\"smiles\": smiles, \"name\": name})\n",
        "\n",
        "df = pd.DataFrame(records)\n",
        "\n",
        "# Add index column starting at 0\n",
        "df.insert(0, \"index\", range(len(df)))\n",
        "\n",
        "print(df.head())   #Meant for trouble shooting\n",
        "\n",
        "#Save as CSV\n",
        "CSV_PATH = SMI_PATH.rsplit(\".\", 1)[0] + \".csv\"\n",
        "df.to_csv(CSV_PATH, index=False)\n",
        "print(f\" Saved {CSV_PATH} with {len(df)} rows\")\n",
        "\n"
      ],
      "metadata": {
        "colab": {
          "base_uri": "https://localhost:8080/",
          "height": 38
        },
        "id": "yMfnqLlyp-NU",
        "outputId": "a7ff656e-23d8-4237-bf25-ec939cf229c5"
      },
      "execution_count": null,
      "outputs": [
        {
          "output_type": "display_data",
          "data": {
            "text/plain": [
              "<IPython.core.display.HTML object>"
            ],
            "text/html": [
              "\n",
              "     <input type=\"file\" id=\"files-adc513e7-c327-41b7-8f68-6720c8f04fe5\" name=\"files[]\" multiple disabled\n",
              "        style=\"border:none\" />\n",
              "     <output id=\"result-adc513e7-c327-41b7-8f68-6720c8f04fe5\">\n",
              "      Upload widget is only available when the cell has been executed in the\n",
              "      current browser session. Please rerun this cell to enable.\n",
              "      </output>\n",
              "      <script>// Copyright 2017 Google LLC\n",
              "//\n",
              "// Licensed under the Apache License, Version 2.0 (the \"License\");\n",
              "// you may not use this file except in compliance with the License.\n",
              "// You may obtain a copy of the License at\n",
              "//\n",
              "//      http://www.apache.org/licenses/LICENSE-2.0\n",
              "//\n",
              "// Unless required by applicable law or agreed to in writing, software\n",
              "// distributed under the License is distributed on an \"AS IS\" BASIS,\n",
              "// WITHOUT WARRANTIES OR CONDITIONS OF ANY KIND, either express or implied.\n",
              "// See the License for the specific language governing permissions and\n",
              "// limitations under the License.\n",
              "\n",
              "/**\n",
              " * @fileoverview Helpers for google.colab Python module.\n",
              " */\n",
              "(function(scope) {\n",
              "function span(text, styleAttributes = {}) {\n",
              "  const element = document.createElement('span');\n",
              "  element.textContent = text;\n",
              "  for (const key of Object.keys(styleAttributes)) {\n",
              "    element.style[key] = styleAttributes[key];\n",
              "  }\n",
              "  return element;\n",
              "}\n",
              "\n",
              "// Max number of bytes which will be uploaded at a time.\n",
              "const MAX_PAYLOAD_SIZE = 100 * 1024;\n",
              "\n",
              "function _uploadFiles(inputId, outputId) {\n",
              "  const steps = uploadFilesStep(inputId, outputId);\n",
              "  const outputElement = document.getElementById(outputId);\n",
              "  // Cache steps on the outputElement to make it available for the next call\n",
              "  // to uploadFilesContinue from Python.\n",
              "  outputElement.steps = steps;\n",
              "\n",
              "  return _uploadFilesContinue(outputId);\n",
              "}\n",
              "\n",
              "// This is roughly an async generator (not supported in the browser yet),\n",
              "// where there are multiple asynchronous steps and the Python side is going\n",
              "// to poll for completion of each step.\n",
              "// This uses a Promise to block the python side on completion of each step,\n",
              "// then passes the result of the previous step as the input to the next step.\n",
              "function _uploadFilesContinue(outputId) {\n",
              "  const outputElement = document.getElementById(outputId);\n",
              "  const steps = outputElement.steps;\n",
              "\n",
              "  const next = steps.next(outputElement.lastPromiseValue);\n",
              "  return Promise.resolve(next.value.promise).then((value) => {\n",
              "    // Cache the last promise value to make it available to the next\n",
              "    // step of the generator.\n",
              "    outputElement.lastPromiseValue = value;\n",
              "    return next.value.response;\n",
              "  });\n",
              "}\n",
              "\n",
              "/**\n",
              " * Generator function which is called between each async step of the upload\n",
              " * process.\n",
              " * @param {string} inputId Element ID of the input file picker element.\n",
              " * @param {string} outputId Element ID of the output display.\n",
              " * @return {!Iterable<!Object>} Iterable of next steps.\n",
              " */\n",
              "function* uploadFilesStep(inputId, outputId) {\n",
              "  const inputElement = document.getElementById(inputId);\n",
              "  inputElement.disabled = false;\n",
              "\n",
              "  const outputElement = document.getElementById(outputId);\n",
              "  outputElement.innerHTML = '';\n",
              "\n",
              "  const pickedPromise = new Promise((resolve) => {\n",
              "    inputElement.addEventListener('change', (e) => {\n",
              "      resolve(e.target.files);\n",
              "    });\n",
              "  });\n",
              "\n",
              "  const cancel = document.createElement('button');\n",
              "  inputElement.parentElement.appendChild(cancel);\n",
              "  cancel.textContent = 'Cancel upload';\n",
              "  const cancelPromise = new Promise((resolve) => {\n",
              "    cancel.onclick = () => {\n",
              "      resolve(null);\n",
              "    };\n",
              "  });\n",
              "\n",
              "  // Wait for the user to pick the files.\n",
              "  const files = yield {\n",
              "    promise: Promise.race([pickedPromise, cancelPromise]),\n",
              "    response: {\n",
              "      action: 'starting',\n",
              "    }\n",
              "  };\n",
              "\n",
              "  cancel.remove();\n",
              "\n",
              "  // Disable the input element since further picks are not allowed.\n",
              "  inputElement.disabled = true;\n",
              "\n",
              "  if (!files) {\n",
              "    return {\n",
              "      response: {\n",
              "        action: 'complete',\n",
              "      }\n",
              "    };\n",
              "  }\n",
              "\n",
              "  for (const file of files) {\n",
              "    const li = document.createElement('li');\n",
              "    li.append(span(file.name, {fontWeight: 'bold'}));\n",
              "    li.append(span(\n",
              "        `(${file.type || 'n/a'}) - ${file.size} bytes, ` +\n",
              "        `last modified: ${\n",
              "            file.lastModifiedDate ? file.lastModifiedDate.toLocaleDateString() :\n",
              "                                    'n/a'} - `));\n",
              "    const percent = span('0% done');\n",
              "    li.appendChild(percent);\n",
              "\n",
              "    outputElement.appendChild(li);\n",
              "\n",
              "    const fileDataPromise = new Promise((resolve) => {\n",
              "      const reader = new FileReader();\n",
              "      reader.onload = (e) => {\n",
              "        resolve(e.target.result);\n",
              "      };\n",
              "      reader.readAsArrayBuffer(file);\n",
              "    });\n",
              "    // Wait for the data to be ready.\n",
              "    let fileData = yield {\n",
              "      promise: fileDataPromise,\n",
              "      response: {\n",
              "        action: 'continue',\n",
              "      }\n",
              "    };\n",
              "\n",
              "    // Use a chunked sending to avoid message size limits. See b/62115660.\n",
              "    let position = 0;\n",
              "    do {\n",
              "      const length = Math.min(fileData.byteLength - position, MAX_PAYLOAD_SIZE);\n",
              "      const chunk = new Uint8Array(fileData, position, length);\n",
              "      position += length;\n",
              "\n",
              "      const base64 = btoa(String.fromCharCode.apply(null, chunk));\n",
              "      yield {\n",
              "        response: {\n",
              "          action: 'append',\n",
              "          file: file.name,\n",
              "          data: base64,\n",
              "        },\n",
              "      };\n",
              "\n",
              "      let percentDone = fileData.byteLength === 0 ?\n",
              "          100 :\n",
              "          Math.round((position / fileData.byteLength) * 100);\n",
              "      percent.textContent = `${percentDone}% done`;\n",
              "\n",
              "    } while (position < fileData.byteLength);\n",
              "  }\n",
              "\n",
              "  // All done.\n",
              "  yield {\n",
              "    response: {\n",
              "      action: 'complete',\n",
              "    }\n",
              "  };\n",
              "}\n",
              "\n",
              "scope.google = scope.google || {};\n",
              "scope.google.colab = scope.google.colab || {};\n",
              "scope.google.colab._files = {\n",
              "  _uploadFiles,\n",
              "  _uploadFilesContinue,\n",
              "};\n",
              "})(self);\n",
              "</script> "
            ]
          },
          "metadata": {}
        }
      ]
    },
    {
      "cell_type": "markdown",
      "source": [
        "**Give fragmented database 3d coordinates**"
      ],
      "metadata": {
        "id": "tiQ5qrXEpoSD"
      }
    },
    {
      "cell_type": "code",
      "source": [
        "# Imports\n",
        "from rdkit import Chem\n",
        "from rdkit.Chem import AllChem, SDWriter\n",
        "\n",
        "infile  = '/content/fragments.smi'     #Upload the file path of your fragmented smi\n",
        "outfile = '/content/fragments_3d.sdf' #Input where you want your sdf with coordinates to be (or leave as is)\n",
        "\n",
        "# Next section just adds 3d cooridnates to your SMILES so that they can be stitched together in the next cell\n",
        "suppl = Chem.SmilesMolSupplier(\n",
        "            infile,\n",
        "            delimiter='\\t',\n",
        "            titleLine=False,\n",
        "            nameColumn=1\n",
        ")\n",
        "\n",
        "writer = SDWriter(outfile)\n",
        "fail   = 0\n",
        "\n",
        "for mol in suppl:\n",
        "    if mol is None:                    # bad SMILES or parse error\n",
        "        fail += 1\n",
        "        continue\n",
        "    mol = Chem.AddHs(mol)\n",
        "    if AllChem.EmbedMolecule(mol, AllChem.ETKDGv3()) != 0:   # returns 0 on success\n",
        "        fail += 1\n",
        "        continue\n",
        "    AllChem.MMFFOptimizeMolecule(mol)\n",
        "    writer.write(mol)\n",
        "\n",
        "writer.close()\n",
        "print(f\"✅  wrote {len(suppl) - fail} molecules to {outfile}, \"\n",
        "      f\"{fail} failures\")\n"
      ],
      "metadata": {
        "id": "Cw9BsF_w9cSv"
      },
      "execution_count": null,
      "outputs": []
    },
    {
      "cell_type": "markdown",
      "source": [
        "**Stitch Molecules Together Using Monster**"
      ],
      "metadata": {
        "id": "WZGhndjDpyxo"
      }
    },
    {
      "cell_type": "code",
      "source": [
        "# Imports\n",
        "from rdkit import Chem\n",
        "from fragmenstein import Monster\n",
        "\n",
        "# Set names\n",
        "# Here you want to use the csv you made earlier to choose what 2 molecules you want to stitch. Set the index to match the positions (their index) of the two molecules you want to stitch together.\n",
        "mol1 = suppl[0]\n",
        "mol2 = suppl[1]\n",
        "\n",
        "mol1.SetProp('_Name', 'frag1')\n",
        "mol2.SetProp('_Name', 'frag2')\n",
        "\n",
        "\n",
        "# Initialize Fragmenstein Monster\n",
        "monster = Monster(hits =[mol1, mol2])\n",
        "\n",
        "merged = monster.combine()\n",
        "merged_mol = monster.positioned_mol\n",
        "\n",
        "\n",
        "# Will save the generated molecule to linked_output1.mol and will also print\n",
        "Chem.MolToMolFile(merged_mol, 'linked_output1.mol', includeStereo=True)\n",
        "print(\"Linked Molecule SMILES:\", Chem.MolToSmiles(merged_mol))"
      ],
      "metadata": {
        "id": "kWqEKNYWXkZc"
      },
      "execution_count": null,
      "outputs": []
    }
  ]
}