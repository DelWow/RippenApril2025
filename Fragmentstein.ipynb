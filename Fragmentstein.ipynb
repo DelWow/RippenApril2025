{
  "nbformat": 4,
  "nbformat_minor": 0,
  "metadata": {
    "colab": {
      "provenance": [],
      "include_colab_link": true
    },
    "kernelspec": {
      "name": "python3",
      "display_name": "Python 3"
    },
    "language_info": {
      "name": "python"
    }
  },
  "cells": [
    {
      "cell_type": "markdown",
      "metadata": {
        "id": "view-in-github",
        "colab_type": "text"
      },
      "source": [
        "<a href=\"https://colab.research.google.com/github/DelWow/RippenApril2025/blob/main/Fragmentstein.ipynb\" target=\"_parent\"><img src=\"https://colab.research.google.com/assets/colab-badge.svg\" alt=\"Open In Colab\"/></a>"
      ]
    },
    {
      "cell_type": "code",
      "source": [
        "#Setup process\n",
        "! pip install \"numpy==1.26.4\"\n",
        "!pip install fragmenstein\n",
        "!pip install rdkit\n",
        "!pip install mmpdb\n"
      ],
      "metadata": {
        "id": "Js1uWsA_VGh0"
      },
      "execution_count": null,
      "outputs": []
    },
    {
      "cell_type": "code",
      "source": [
        "import pandas as pd\n",
        "from rdkit import Chem\n",
        "from rdkit.Chem import AllChem, rdmolfiles\n",
        "from fragmenstein import Frankenstein"
      ],
      "metadata": {
        "id": "l5liyAH0WT4r"
      },
      "execution_count": null,
      "outputs": []
    },
    {
      "cell_type": "code",
      "source": [
        "!git branch\n",
        ""
      ],
      "metadata": {
        "id": "AGh2PGaDzbhW"
      },
      "execution_count": 29,
      "outputs": []
    },
    {
      "cell_type": "code",
      "source": [
        "!mmpdb --help"
      ],
      "metadata": {
        "colab": {
          "base_uri": "https://localhost:8080/"
        },
        "id": "FEFZ0xJcy2xq",
        "outputId": "ff005975-fdfe-4e8c-8447-99c10293657c"
      },
      "execution_count": null,
      "outputs": [
        {
          "output_type": "stream",
          "name": "stdout",
          "text": [
            "Usage: mmpdb [OPTIONS] COMMAND [ARGS]...\n",
            "\n",
            "  Matched-molecular pair database loader\n",
            "\n",
            "Options:\n",
            "  -q, --quiet  Do not show progress or status information\n",
            "  --version    Show the version and exit.\n",
            "  --help       Show this message and exit.\n",
            "\n",
            "Commands:\n",
            "\n",
            " Matched molecular pair generation commands (see 'help-analysis'):\n",
            "  fragment       Fragment SMILES file structures on rotatable bonds\n",
            "  smifrag        Fragment a single SMILES string\n",
            "  index          Index fragments and find matched molecular pairs\n",
            "  predict        Predict the effect of a structural transformation\n",
            "  transform      Transform a structure\n",
            "  rgroup2smarts  Convert an R-group file into a SMARTS which matches all of\n",
            "                 the SMILES\n",
            "  generate       Apply database transforms to a molecule\n",
            "\n",
            " Distributed generation commands (see 'help-distributed'):\n",
            "  smi_split         Split the SMILES file 'FILE' into smaller files\n",
            "  fragdb_constants  List constants fragdb DATABASEs and their frequencies\n",
            "  fragdb_partition  Partition fragments based on common constants\n",
            "  fragdb_merge      Merge multiple fragdb files into one\n",
            "  merge             Merge multiple mmpdb databases\n",
            "\n",
            " Administration commands (see 'help-admin'):\n",
            "  fragdb_list   Summarize zero or more fragdb databases\n",
            "  list          Summarize the contents of zero or more databases\n",
            "  loadprops     Load properties for existing structures\n",
            "  smicat        Write the mmpdb SMILES as a SMILES file\n",
            "  rulecat       Show the rules in an mmpdb file\n",
            "  ruleenvcat    Show the rules in an mmpdb file\n",
            "  propcat       Write the database properties to a properties file\n",
            "  proprulecat   Write the property rules to stdout or a file\n",
            "  drop_index    Drop the database indices\n",
            "  create_index  Create the database indices\n",
            "\n",
            " Help commands:\n",
            "  help                  Summarize the help commands\n",
            "  help-analysis         Overview on how to use mmpdb for structure analysis\n",
            "  help-admin            Overview of the information and administrative\n",
            "                        commands\n",
            "  help-distributed      Overview of commands to distribute MMP generation.\n",
            "  help-postgres         Using a Postgres database\n",
            "  help-smiles-format    Description of the SMILES file parsing options\n",
            "  help-property-format  Description of the property file format\n",
            "\n",
            " The 'mmpdb' program implements a set of subcommands to work with a matched\n",
            " molecular pair database. The commands are roughly categorized as \"analysis\",\n",
            " \"distributed\", and \"admin\" commands.\n",
            "\n",
            " The analysis commands fragment a SMILES database, index the fragments into\n",
            " matched molecular pairs into a local SQLite database, import molecular\n",
            " properties into a database, and searches the database for possible\n",
            " transformations or predictions.\n",
            "\n",
            " The distributed commands are used to parallelize matched molecular pair\n",
            " generation in a distributed cluster environment. They include ways to split a\n",
            " SMILES file into parts, for parallel fragmentation, to merge the\n",
            " fragmentations together for later re-use as a cache, to partition the\n",
            " fragmentations by constant for parallel indexing, and to merge the generated\n",
            " indices for a final database.\n",
            "\n",
            " The admin commands are used to administer a database. They include include\n",
            " ways to list the available data sets, dump the data as a SMILES file or CSV\n",
            " file, update new properties, and re-aggregate the rule dataset should any\n",
            " property values change.\n",
            "\n",
            " For a short description of how to generate and use a dataset:\n",
            "\n",
            "   % mmpdb help-analysis\n",
            "\n",
            " See \"help-postgres\" for examples using Postgres.\n",
            "\n",
            " For a short description of how to parallize MMP generation:\n",
            "\n",
            "   % mmpdb help-distributed\n",
            "\n",
            " For a short description of how to adminster a database:\n",
            "\n",
            "   % mmpdb help-admin\n",
            "\n",
            " The \"help-*-format\" commands (like \"help-property-format\") give more details\n",
            " about the given format.\n",
            "\n",
            " In addition, pass the \"--help\" option to a given command to see the full list\n",
            " of options for the command.\n"
          ]
        }
      ]
    },
    {
      "cell_type": "code",
      "source": [
        "!mmpdb search \"attachment_points == 2\" test_data.fragdb > chosen_frags.smi"
      ],
      "metadata": {
        "colab": {
          "base_uri": "https://localhost:8080/"
        },
        "id": "VqEuklTYySS4",
        "outputId": "438e5db0-6d8c-4688-e028-18de7e09b982"
      },
      "execution_count": null,
      "outputs": [
        {
          "output_type": "stream",
          "name": "stdout",
          "text": [
            "Usage: mmpdb [OPTIONS] COMMAND [ARGS]...\n",
            "Try 'mmpdb --help' for help.\n",
            "\n",
            "Error: No such command 'search'.\n"
          ]
        }
      ]
    },
    {
      "cell_type": "code",
      "source": [
        "from fragmenstein import Monster\n",
        "from rdkit import Chem\n",
        "\n",
        "\n",
        "# Load fragments from files (must be aligned in 3D)\n",
        "mol1 = Chem.MolFromMolFile('fragment1.mol', removeHs=False)\n",
        "mol2 = Chem.MolFromMolFile('fragment2.mol', removeHs=False)\n",
        "\n",
        "# Set names (Fragmenstein uses them to track)\n",
        "mol1.SetProp('_Name', 'frag1')\n",
        "mol2.SetProp('_Name', 'frag2')\n",
        "\n",
        "# Initialize Fragmenstein Monster\n",
        "monster = Monster(\n",
        "    receptor_path='/content/1SJP.pdb',  # Provide your receptor PDB file\n",
        "    idealize=True,\n",
        "    name='linked_molecule'\n",
        ")\n",
        "\n",
        "# Assign the fragments (must have 3D coordinates)\n",
        "monster.frags = [mol1, mol2]\n",
        "\n",
        "# Combine them using Fragmenstein\n",
        "merged_mol = monster.combine()\n",
        "\n",
        "# Save the result\n",
        "Chem.MolToMolFile(merged_mol, 'linked_output.mol', includeStereo=True)\n",
        "\n",
        "# Also print SMILES for sanity\n",
        "print(\"Linked Molecule SMILES:\", Chem.MolToSmiles(merged_mol))"
      ],
      "metadata": {
        "id": "kWqEKNYWXkZc",
        "colab": {
          "base_uri": "https://localhost:8080/",
          "height": 211
        },
        "outputId": "8de07e9c-264d-4183-a003-6481fef6a908"
      },
      "execution_count": null,
      "outputs": [
        {
          "output_type": "error",
          "ename": "TypeError",
          "evalue": "_MonsterBase.__init__() got an unexpected keyword argument 'receptor_path'",
          "traceback": [
            "\u001b[0;31m---------------------------------------------------------------------------\u001b[0m",
            "\u001b[0;31mTypeError\u001b[0m                                 Traceback (most recent call last)",
            "\u001b[0;32m<ipython-input-5-a3362703b288>\u001b[0m in \u001b[0;36m<cell line: 0>\u001b[0;34m()\u001b[0m\n\u001b[1;32m     12\u001b[0m \u001b[0;34m\u001b[0m\u001b[0m\n\u001b[1;32m     13\u001b[0m \u001b[0;31m# Initialize Fragmenstein Monster\u001b[0m\u001b[0;34m\u001b[0m\u001b[0;34m\u001b[0m\u001b[0m\n\u001b[0;32m---> 14\u001b[0;31m monster = Monster(\n\u001b[0m\u001b[1;32m     15\u001b[0m     \u001b[0mreceptor_path\u001b[0m\u001b[0;34m=\u001b[0m\u001b[0;34m'/content/1SJP.pdb'\u001b[0m\u001b[0;34m,\u001b[0m  \u001b[0;31m# Provide your receptor PDB file\u001b[0m\u001b[0;34m\u001b[0m\u001b[0;34m\u001b[0m\u001b[0m\n\u001b[1;32m     16\u001b[0m     \u001b[0midealize\u001b[0m\u001b[0;34m=\u001b[0m\u001b[0;32mTrue\u001b[0m\u001b[0;34m,\u001b[0m\u001b[0;34m\u001b[0m\u001b[0;34m\u001b[0m\u001b[0m\n",
            "\u001b[0;31mTypeError\u001b[0m: _MonsterBase.__init__() got an unexpected keyword argument 'receptor_path'"
          ]
        }
      ]
    },
    {
      "cell_type": "code",
      "source": [],
      "metadata": {
        "id": "3opx-TEtyw4k"
      },
      "execution_count": null,
      "outputs": []
    },
    {
      "cell_type": "code",
      "execution_count": null,
      "metadata": {
        "id": "_O2MwRbua4qy"
      },
      "outputs": [],
      "source": [
        "from fragmenstein import Victor\n",
        "from rdkit import Chem\n",
        "\n",
        "# Define the input fragments as SMILES strings\n",
        "fragment1 = Chem.MolFromSmiles(\"CCO\")\n",
        "fragment2 = Chem.MolFromSmiles(\"CCN\")\n",
        "\n",
        "# Create a Victor instance for fragment merging\n",
        "victor = Victor(hits=[fragment1, fragment2])\n",
        "\n",
        "# Merge the fragments\n",
        "merged_molecule = victor.combine()\n",
        "\n",
        "# Convert the merged molecule back to SMILES\n",
        "merged_smiles = Chem.MolToSmiles(merged_molecule)\n",
        "print(f\"Merged molecule: {merged_smiles}\")\n"
      ]
    },
    {
      "cell_type": "code",
      "source": [
        "from fragmenstein import Victor\n",
        "from rdkit import Chem\n",
        "from rdkit.Chem import AllChem\n",
        "\n",
        "# Load fragments as SMILES strings\n",
        "fragment1 = Chem.MolFromSmiles(\"CCO\")  # Example fragment 1\n",
        "fragment2 = Chem.MolFromSmiles(\"CCN\")  # Example fragment 2\n",
        "\n",
        "# Assign 3D coordinates (normally from docking results or a PDB)\n",
        "AllChem.EmbedMolecule(fragment1)\n",
        "AllChem.EmbedMolecule(fragment2)\n",
        "\n",
        "# Load the protein-ligand complex (PDB) for context\n",
        "protein_pdb = \"protein_structure.pdb\"  # Replace with your actual PDB file\n",
        "\n",
        "# Initialize Victor with the binding site and fragment information\n",
        "victor = Victor(\n",
        "    hits=[fragment1, fragment2],  # Fragments to merge\n",
        "    pdb_filename=protein_pdb,  # Reference protein structure\n",
        "    covalent=False,  # If fragments should be merged covalently\n",
        "    discount_flipper=True  # Reduce unnecessary flipping of fragments\n",
        ")\n",
        "\n",
        "# Merge the fragments and generate the final molecule\n",
        "merged_molecule = victor.combine()\n",
        "\n",
        "# Optimize the merged molecule to fit the binding site\n",
        "victor.positioned_mol  # This is the final molecule with adjusted positioning\n",
        "\n",
        "# Save output as an SDF file for visualization\n",
        "w = Chem.SDWriter(\"merged_molecule.sdf\")\n",
        "w.write(victor.positioned_mol)\n",
        "w.close()\n",
        "\n",
        "# Print the final SMILES representation\n",
        "final_smiles = Chem.MolToSmiles(victor.positioned_mol)\n",
        "print(f\"Final merged molecule: {final_smiles}\")"
      ],
      "metadata": {
        "id": "mwu8mj1na7Qz"
      },
      "execution_count": null,
      "outputs": []
    }
  ]
}